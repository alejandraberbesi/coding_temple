{
 "cells": [
  {
   "cell_type": "code",
   "execution_count": null,
   "id": "c4fbeb2b",
   "metadata": {},
   "outputs": [],
   "source": [
    "#this is code"
   ]
  },
  {
   "cell_type": "code",
   "execution_count": null,
   "id": "4bd15dcf",
   "metadata": {},
   "outputs": [],
   "source": []
  },
  {
   "cell_type": "code",
   "execution_count": null,
   "id": "f6ed1e7c",
   "metadata": {},
   "outputs": [],
   "source": [
    "#blablabla"
   ]
  },
  {
   "cell_type": "code",
   "execution_count": null,
   "id": "790193b6",
   "metadata": {},
   "outputs": [],
   "source": [
    "import pandas as pd"
   ]
  }
 ],
 "metadata": {
  "kernelspec": {
   "display_name": "Python 3 (ipykernel)",
   "language": "python",
   "name": "python3"
  },
  "language_info": {
   "codemirror_mode": {
    "name": "ipython",
    "version": 3
   },
   "file_extension": ".py",
   "mimetype": "text/x-python",
   "name": "python",
   "nbconvert_exporter": "python",
   "pygments_lexer": "ipython3",
   "version": "3.11.5"
  }
 },
 "nbformat": 4,
 "nbformat_minor": 5
}
